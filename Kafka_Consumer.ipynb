{
 "cells": [
  {
   "cell_type": "code",
   "execution_count": 1,
   "id": "6e24c676",
   "metadata": {},
   "outputs": [],
   "source": [
    "from kafka import KafkaConsumer\n",
    "from time import sleep\n",
    "from json import dumps,loads\n",
    "import json\n",
    "from s3fs import S3FileSystem"
   ]
  },
  {
   "cell_type": "code",
   "execution_count": 2,
   "id": "d5be481c",
   "metadata": {},
   "outputs": [],
   "source": [
    "consumer = KafkaConsumer(\n",
    "    'demotest11',\n",
    "    bootstrap_servers=['18.118.147.88:9092'],\n",
    "    auto_offset_reset='earliest',\n",
    "    enable_auto_commit=True,\n",
    "    value_deserializer=lambda x: x.decode('utf-8')  # Decode message as string first\n",
    ")\n"
   ]
  },
  {
   "cell_type": "code",
   "execution_count": null,
   "id": "0cc5a456",
   "metadata": {},
   "outputs": [],
   "source": [
    "# for message in consumer:\n",
    "#     try:\n",
    "#         data = loads(message.value)\n",
    "#         print(data)\n",
    "#     except Exception as e:\n",
    "#         print(f\"Error decoding JSON: {e}\")\n",
    "#         print(f\"Raw message: {message.value}\")"
   ]
  },
  {
   "cell_type": "code",
   "execution_count": 4,
   "id": "fff3c03c",
   "metadata": {},
   "outputs": [],
   "source": [
    "s3 = S3FileSystem()\n",
    "for cnt, event in enumerate(consumer):\n",
    "    try:\n",
    "        data = loads(message.value)\n",
    "        with s3.open(\"s3://github-kafka-raw/github_event_{}.json\".format(cnt), 'w') as file:\n",
    "            json.dump(event.value, file)\n",
    "    except Exception as e:\n",
    "        print(f\"Error decoding JSON: {e}\")\n",
    "        print(f\"Raw message: {event.value}\")\n"
   ]
  },
  {
   "cell_type": "code",
   "execution_count": null,
   "id": "0f639e23",
   "metadata": {},
   "outputs": [],
   "source": []
  }
 ],
 "metadata": {
  "kernelspec": {
   "display_name": "Python 3 (ipykernel)",
   "language": "python",
   "name": "python3"
  },
  "language_info": {
   "codemirror_mode": {
    "name": "ipython",
    "version": 3
   },
   "file_extension": ".py",
   "mimetype": "text/x-python",
   "name": "python",
   "nbconvert_exporter": "python",
   "pygments_lexer": "ipython3",
   "version": "3.11.5"
  }
 },
 "nbformat": 4,
 "nbformat_minor": 5
}
