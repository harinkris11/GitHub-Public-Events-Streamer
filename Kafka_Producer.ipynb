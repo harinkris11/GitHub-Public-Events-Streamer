{
 "cells": [
  {
   "cell_type": "code",
   "execution_count": 1,
   "id": "86893d38",
   "metadata": {},
   "outputs": [],
   "source": [
    "pip install kafka-python"
   ]
  },
  {
   "cell_type": "code",
   "execution_count": 3,
   "id": "5a1e17f9",
   "metadata": {},
   "outputs": [],
   "source": [
    "import pandas as pd\n",
    "from kafka import KafkaProducer\n",
    "from time import sleep\n",
    "from json import dumps\n",
    "import json\n",
    "import requests"
   ]
  },
  {
   "cell_type": "code",
   "execution_count": 4,
   "id": "32bb1eb0",
   "metadata": {},
   "outputs": [],
   "source": [
    "producer = KafkaProducer(bootstrap_servers=['18.118.147.88:9092'],\n",
    "                         value_serializer=lambda x: \n",
    "                         dumps(x).encode('utf-8'))"
   ]
  },
  {
   "cell_type": "code",
   "execution_count": 5,
   "id": "544385ac",
   "metadata": {},
   "outputs": [],
   "source": [
    "# producer.send('demotest11', value={'Harin':'Data Engineer'})"
   ]
  },
  {
   "cell_type": "code",
   "execution_count": 6,
   "id": "c5329a61",
   "metadata": {},
   "outputs": [],
   "source": [
    "# producer.flush()"
   ]
  },
  {
   "cell_type": "code",
   "execution_count": 7,
   "id": "bc94ccb0",
   "metadata": {},
   "outputs": [],
   "source": [
    "def fetch_github_events():\n",
    "    url = 'https://api.github.com/events'\n",
    "    response = requests.get(url)\n",
    "    if response.status_code == 200:\n",
    "        return response.json()\n",
    "    else:\n",
    "        return []\n",
    "\n",
    "def produce_github_events():\n",
    "    while True:\n",
    "        events = fetch_github_events()\n",
    "        for event in events:\n",
    "            # Send each event as a message to the Kafka topic\n",
    "            producer.send('demotest11', value=event)\n",
    "        producer.flush()# Ensure all events are sent before sleeping\n",
    "        sleep(60)  # Fetch new events every 60 seconds"
   ]
  },
  {
   "cell_type": "code",
   "execution_count": 12,
   "id": "4c6786ff",
   "metadata": {},
   "outputs": [],
   "source": [
    "produce_github_events()\n"
   ]
  }
 ],
 "metadata": {
  "kernelspec": {
   "display_name": "Python 3 (ipykernel)",
   "language": "python",
   "name": "python3"
  },
  "language_info": {
   "codemirror_mode": {
    "name": "ipython",
    "version": 3
   },
   "file_extension": ".py",
   "mimetype": "text/x-python",
   "name": "python",
   "nbconvert_exporter": "python",
   "pygments_lexer": "ipython3",
   "version": "3.11.5"
  }
 },
 "nbformat": 4,
 "nbformat_minor": 5
}
